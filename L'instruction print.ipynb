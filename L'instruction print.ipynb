{
 "cells": [
  {
   "cell_type": "markdown",
   "metadata": {},
   "source": [
    "#<font color=blue> Pythonneries  </font>"
   ]
  },
  {
   "cell_type": "markdown",
   "metadata": {},
   "source": [
    "<font color=red> Mettons un peu de couleurs dans nos vies </font>"
   ]
  },
  {
   "cell_type": "code",
   "execution_count": 3,
   "metadata": {
    "collapsed": true
   },
   "outputs": [],
   "source": [
    "from math import*"
   ]
  },
  {
   "cell_type": "code",
   "execution_count": 4,
   "metadata": {
    "collapsed": true
   },
   "outputs": [],
   "source": [
    "from random import *"
   ]
  },
  {
   "cell_type": "code",
   "execution_count": null,
   "metadata": {},
   "outputs": [],
   "source": [
    "*et un peu d'italique*"
   ]
  },
  {
   "cell_type": "markdown",
   "metadata": {},
   "source": [
    "__Et un peu de gras aussi__"
   ]
  },
  {
   "cell_type": "markdown",
   "metadata": {},
   "source": [
    "Si vous aimez Dalida, vous aimerez [cette chanson](https://youtu.be/zyDZc8QDlYY)"
   ]
  },
  {
   "cell_type": "markdown",
   "metadata": {},
   "source": [
    "[Et celle-ci aussi](https://youtu.be/bD02nY1kINs)"
   ]
  },
  {
   "cell_type": "code",
   "execution_count": null,
   "metadata": {
    "collapsed": true
   },
   "outputs": [],
   "source": [
    "Quelle est la bonne réponse :\n",
    "-[]carlson\n",
    "-[]abbing\n",
    "-[]downton"
   ]
  },
  {
   "cell_type": "markdown",
   "metadata": {},
   "source": [
    "![GitHub Logo](/Users/bernardfroget/Dropbox/Travail/Images/chien.png)"
   ]
  },
  {
   "cell_type": "code",
   "execution_count": null,
   "metadata": {
    "collapsed": true
   },
   "outputs": [],
   "source": [
    "/Users/bernardfroget/Dropbox/Travail/Images/Lauriers.png"
   ]
  },
  {
   "cell_type": "markdown",
   "metadata": {},
   "source": [
    "Écrire un programme qui affiche \"Bonjour\" .... suivi de votre prénom"
   ]
  },
  {
   "cell_type": "code",
   "execution_count": null,
   "metadata": {},
   "outputs": [],
   "source": [
    "prenom=input(\"Quel est votre prénom ?\" )"
   ]
  },
  {
   "cell_type": "code",
   "execution_count": 16,
   "metadata": {},
   "outputs": [],
   "source": [
    "nbsecret=(randint(1,101))"
   ]
  },
  {
   "cell_type": "code",
   "execution_count": 12,
   "metadata": {},
   "outputs": [
    {
     "name": "stdout",
     "output_type": "stream",
     "text": [
      "28\n"
     ]
    }
   ],
   "source": [
    "print(nbsecret)"
   ]
  },
  {
   "cell_type": "code",
   "execution_count": 18,
   "metadata": {},
   "outputs": [
    {
     "name": "stdout",
     "output_type": "stream",
     "text": [
      "votre choix ? 1\n",
      "trop petit ! \n",
      "votre choix ? 100\n",
      "trop grand !\n",
      "votre choix ? 66\n",
      "trop grand !\n",
      "votre choix ? 32\n",
      "trop grand !\n",
      "votre choix ? 22\n",
      "trop grand !\n",
      "votre choix ? 12\n",
      "trop grand !\n",
      "votre choix ? 11\n",
      "trop grand !\n",
      "votre choix ? 10\n",
      "trop grand !\n",
      "votre choix ? 9\n",
      "trop grand !\n",
      "votre choix ? 8\n",
      "trop grand !\n",
      "Vous avez dépassé le nombre d'essais autorisé !\n"
     ]
    }
   ],
   "source": [
    "i=1\n",
    "while i<=10 and prop !=nbsecret :\n",
    "    prop=eval(input( \"votre choix ? \"))\n",
    "    if prop<nbsecret :\n",
    "        print(\"trop petit ! \")\n",
    "    elif prop > nbsecret :\n",
    "        print(\"trop grand !\")\n",
    "    i=i+1\n",
    "if prop ==nbsecret :\n",
    "    print(\"Gagné !\")\n",
    "else :\n",
    "    print(\"Vous avez atteint le nombre d'essais autorisé !\")\n",
    "    "
   ]
  },
  {
   "cell_type": "code",
   "execution_count": null,
   "metadata": {
    "collapsed": true
   },
   "outputs": [],
   "source": [
    "print(i)"
   ]
  },
  {
   "cell_type": "code",
   "execution_count": null,
   "metadata": {},
   "outputs": [],
   "source": [
    "2*hauteur"
   ]
  },
  {
   "cell_type": "code",
   "execution_count": null,
   "metadata": {},
   "outputs": [],
   "source": [
    "print( \"Bonjour\", prenom)"
   ]
  },
  {
   "cell_type": "markdown",
   "metadata": {},
   "source": [
    "**print( )** : l'expression entre parenthèses est évaluée, puis affichée.\n",
    "\n",
    "Exécuter les instructions ci-après : "
   ]
  },
  {
   "cell_type": "code",
   "execution_count": null,
   "metadata": {},
   "outputs": [],
   "source": [
    "print(bonjour)"
   ]
  },
  {
   "cell_type": "markdown",
   "metadata": {
    "collapsed": true
   },
   "source": [
    "print('bonjour')"
   ]
  },
  {
   "cell_type": "code",
   "execution_count": null,
   "metadata": {
    "collapsed": true
   },
   "outputs": [],
   "source": [
    "a=12\n",
    "print('Vous avez',a,'ans')"
   ]
  },
  {
   "cell_type": "code",
   "execution_count": null,
   "metadata": {
    "collapsed": true
   },
   "outputs": [],
   "source": [
    "print('mai'+'son')"
   ]
  },
  {
   "cell_type": "markdown",
   "metadata": {},
   "source": [
    "Que fait chacun des programmes suivants ? Vérifiez.... "
   ]
  },
  {
   "cell_type": "markdown",
   "metadata": {
    "collapsed": true
   },
   "source": [
    "a=input('Choisir un nombre entier : ')\n",
    "a*2\n",
    "#print(a*2)\n",
    "#a*3"
   ]
  },
  {
   "cell_type": "markdown",
   "metadata": {
    "collapsed": true
   },
   "source": [
    "a=input('Choisir un nombre entier : ')\n",
    "print(a*2)\n",
    "a=input('Choisir un nombre entier : ')\n",
    "a*2"
   ]
  },
  {
   "cell_type": "code",
   "execution_count": null,
   "metadata": {
    "collapsed": true
   },
   "outputs": [],
   "source": [
    "a=input('Choisir un nombre entier : ')\n",
    "#a*2\n",
    "print(a*2)"
   ]
  },
  {
   "cell_type": "markdown",
   "metadata": {},
   "source": [
    "Écrire un programme qui demande votre âge $x$, en années, puis affiche le message \"Vous avez $x$ ans\""
   ]
  },
  {
   "cell_type": "code",
   "execution_count": null,
   "metadata": {
    "collapsed": true
   },
   "outputs": [],
   "source": [
    "a=int(input(\"Quel est votre âge (en années) ? \"))\n",
    "print(\"Vous avez \", a, \"ans\")"
   ]
  },
  {
   "cell_type": "markdown",
   "metadata": {},
   "source": [
    "Qu'affiche le programme suivant ?"
   ]
  },
  {
   "cell_type": "code",
   "execution_count": null,
   "metadata": {
    "collapsed": true
   },
   "outputs": [],
   "source": [
    "a='alice'\n",
    "b='bob'\n",
    "a=b\n",
    "b=a\n",
    "print(a,b)\n"
   ]
  },
  {
   "cell_type": "code",
   "execution_count": null,
   "metadata": {
    "collapsed": true
   },
   "outputs": [],
   "source": [
    "from random import*\n",
    "nombre_secret=randint(1,100)\n",
    "#rep=-1\n",
    "rep=int(input('Jouez : '))\n",
    "while rep != nombre_secret :\n",
    "    if rep>nombre_secret :\n",
    "        print(\"trop grand !\")\n",
    "        rep=int(input('Rejouez : '))\n",
    "    elif rep<nombre_secret :\n",
    "        print(\"trop petit !\")\n",
    "        rep=int(input('Rejouez : '))    \n",
    "print(\"Bravo\")\n",
    "print(\"La bonne réponse était effectivement \", nombre_secret)\n",
    "\n"
   ]
  },
  {
   "cell_type": "code",
   "execution_count": null,
   "metadata": {
    "collapsed": true
   },
   "outputs": [],
   "source": []
  },
  {
   "cell_type": "code",
   "execution_count": null,
   "metadata": {
    "collapsed": true
   },
   "outputs": [],
   "source": []
  }
 ],
 "metadata": {
  "kernelspec": {
   "display_name": "Python 3",
   "language": "python",
   "name": "python3"
  },
  "language_info": {
   "codemirror_mode": {
    "name": "ipython",
    "version": 3
   },
   "file_extension": ".py",
   "mimetype": "text/x-python",
   "name": "python",
   "nbconvert_exporter": "python",
   "pygments_lexer": "ipython3",
   "version": "3.6.2"
  }
 },
 "nbformat": 4,
 "nbformat_minor": 2
}
