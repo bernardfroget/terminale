{
 "cells": [
  {
   "cell_type": "markdown",
   "metadata": {},
   "source": [
    "# Dérivation - Intégration"
   ]
  },
  {
   "cell_type": "code",
   "execution_count": 2,
   "metadata": {
    "collapsed": true,
    "scrolled": true
   },
   "outputs": [],
   "source": [
    "from sympy import *\n",
    "init_printing(use_unicode=True) #affichage à la LaTeX\n",
    "import matplotlib.pyplot as plt\n",
    "import numpy as np\n",
    "%matplotlib inline"
   ]
  },
  {
   "cell_type": "markdown",
   "metadata": {},
   "source": [
    "## Motivation"
   ]
  },
  {
   "cell_type": "markdown",
   "metadata": {},
   "source": [
    "* Étude du comportement d'une fonction\n",
    "* Application à des fonctions issues de problèmes liés à la physique\n",
    "    - Cinématique \n",
    "    - Électrocinétique\n",
    "    - Cinétique chimique"
   ]
  },
  {
   "cell_type": "markdown",
   "metadata": {},
   "source": [
    "## Notion de fonction continue"
   ]
  },
  {
   "cell_type": "markdown",
   "metadata": {},
   "source": [
    "* Dans la suite de ce chapitre, on considère essentiellement des fonctions numériques définies sur un intervalle $I$ non vide et non réduit à un point (on dit aussi *intervalle d’intérieur non vide*).\n",
    "* Les fonctions usuelles (fonctions puissances, trigonométriques, exponentielle, logarithme, etc.) sont continues sur leur domaine.\n",
    "* Les deux proprités suivantes permettent d’affirmer la continuité d’une fonction numérique définie comme des **opérations sur des fonctions usuelles**."
   ]
  },
  {
   "cell_type": "markdown",
   "metadata": {},
   "source": [
    "**Propriété : sommes, produits et quotients de fonctions continues**"
   ]
  },
  {
   "cell_type": "markdown",
   "metadata": {},
   "source": [
    "* Soit $f$ et $g$ deux fonctions continues sur l’intervalle I. Alors les fonctions $\\alpha f + \\beta g$ et $fg$ sont continues sur I.\n",
    "* Si $g$ ne s’annule pas sur $I$, alors les fonctions $\\dfrac{1}{g}$ et $\\dfrac{f}{g}$ sont continues sur $I$."
   ]
  },
  {
   "cell_type": "markdown",
   "metadata": {},
   "source": [
    "**Propriété : composée de deux fonctions continues**"
   ]
  },
  {
   "cell_type": "markdown",
   "metadata": {},
   "source": [
    "Soit $f : I \\rightarrow \\mathbb{R}$ et $g : J \\rightarrow \\mathbb{R}$ deux fonctions continues, avec $f(I) \\subset J$.\n",
    "\n",
    "Alors la fonction $g\\circ f$ est continue sur $I$."
   ]
  },
  {
   "cell_type": "markdown",
   "metadata": {},
   "source": [
    "## Notion de dérivée"
   ]
  },
  {
   "cell_type": "markdown",
   "metadata": {},
   "source": [
    "Soit $f : I\\rightarrow \\mathbb{R}$ et $a\\in I$, on cherche un procédé pour étudier le comportement (variation) de $f$. \n",
    "\n",
    "On veut fabriquer un outil, une nouvelle fonction, que l’on notera $f'$, qui nous donnera des informations sur la fonction initiale $f$."
   ]
  },
  {
   "cell_type": "markdown",
   "metadata": {},
   "source": [
    "* On dit que $f$ est dérivable en $x_0$ si l'expression $\\dfrac{f(x)-f(x_0)}{x-x_0}$ possède une limite finie quand $x$ tend vers $x_0$ ou si $\\dfrac{f(x_0+h)-f(x_0)}{h}$ possède une limite finie quand $h$ tend vers $0$"
   ]
  },
  {
   "cell_type": "markdown",
   "metadata": {},
   "source": [
    "* Cette limite est alors notée $f'(x_0)$ et est appelée **nombre dérivée de $f$ en $x_0$** aussi noté :  $\\dfrac{d\\,f}{dx}(x_0)$"
   ]
  },
  {
   "cell_type": "markdown",
   "metadata": {},
   "source": [
    "* Si $f$ est dérivable en tout point $x_0\\in I$, on dit que $f$ est dérivable sur I et on note $f'$ la dérivée de $f$"
   ]
  },
  {
   "cell_type": "markdown",
   "metadata": {},
   "source": [
    "* Si $f$ est dérivable en $x_0$, on appelle tangente à $(\\mathcal{C})$ en $x_0$ la droite d'équation $y-f(x_0) = f'(x_0)(x-x_0)$ de coefficient directeur $f'(x_0)$ et qui passe par le point $A(x_0, f(x_0))$ de la courbe $(\\mathcal{C})$"
   ]
  },
  {
   "cell_type": "markdown",
   "metadata": {},
   "source": [
    "### Équation de la tangente en un point"
   ]
  },
  {
   "cell_type": "markdown",
   "metadata": {},
   "source": [
    "    <img src=\"images/tangente.png\">"
   ]
  },
  {
   "cell_type": "markdown",
   "metadata": {},
   "source": [
    "Il existe des fonctions pour lesquelles, la limite précédente n’existe pas. On dit qu’elles ne sont pas dérivables en $x_0$\n",
    "\n",
    "* $f(x) = \\sqrt x$ en $0$\n",
    "* $f(x) = |\\,x\\,|$ en $0$"
   ]
  },
  {
   "cell_type": "markdown",
   "metadata": {},
   "source": [
    "### Comprendre le sens physique de la dérivée en un point"
   ]
  },
  {
   "cell_type": "markdown",
   "metadata": {},
   "source": [
    "* Donne une information sur la vitesse au voisinage d'un point de la trajectoire d'un solide, la vitesse correspond à la variation de la distance parcourue en fonction du temps $$v = \\dfrac{dx}{dt}$$\n",
    "* En cinématique du solide l'accélération est donnée par la variation de la vitesse en fonction du temps $$a = \\dfrac{dv}{dt}$$\n",
    "* En électromagnétisme la fem induite induite dans un circuit fermé baigné par un champ magnétique est directement proportionnelle à la variation dans le temps du flux du champ magnétique pénétrant dans le circuit. $$E = \\dfrac{d\\Phi_B}{dt}$$\n",
    "* En cinétique chimique la vitesse $v$ de la réaction chimique est donnée par la variation de la concentration en fonction du temps des différents réactifs et produits. $$v = -\\dfrac{d[A]}{dt} = -\\dfrac{d[B]}{dt} = \\dots$$ "
   ]
  },
  {
   "cell_type": "markdown",
   "metadata": {},
   "source": [
    "Pour chaque grandeur physique citée, la connaissance de l'évolution de cette grandeur en fonction du temps permet d'exprimer le taux de variation de cette grandeur en un point et d'en déduire une information liée à la notion de dérivée."
   ]
  },
  {
   "cell_type": "markdown",
   "metadata": {},
   "source": [
    "## Opérations sur les fonctions dérivables"
   ]
  },
  {
   "cell_type": "markdown",
   "metadata": {},
   "source": [
    "**Propriété : dérivée d'une combinaison linéaire**"
   ]
  },
  {
   "cell_type": "markdown",
   "metadata": {},
   "source": [
    "Soient $f$ et $g$ deux fonctions dérivables sur un intervalle $I$.\n",
    "\n",
    "Pour tout $\\alpha$, $\\beta$ dans $\\mathbb{R}$, $h = \\alpha\\,f + \\beta\\, g$ est dérivable sur $I$ et $h' = \\alpha\\,f' + \\beta\\, g'$"
   ]
  },
  {
   "cell_type": "markdown",
   "metadata": {},
   "source": [
    "**Propriété : dérivée d'un produit**"
   ]
  },
  {
   "cell_type": "markdown",
   "metadata": {},
   "source": [
    "Soient $f$ et $g$ deux fonctions dérivables sur un intervalle $I$.\n",
    "\n",
    "La fonction $h = f\\,g$ est dérivable sur $I$ et $h' = f' g + f\\,g'$"
   ]
  },
  {
   "cell_type": "markdown",
   "metadata": {},
   "source": [
    "**Propriété : dérivée de l'inverse et du quotient**"
   ]
  },
  {
   "cell_type": "markdown",
   "metadata": {},
   "source": [
    "Soit $g$ une fonction dérivable sur un intervalle $I$ et ne s'annulant pas sur $I$.\n",
    "\n",
    "La fonction $h = \\dfrac{1}{g}$ est dérivable sur $I$ et $h' = -\\dfrac{g'}{g^2}$\n",
    "\n",
    "Soit $g$ une fonction dérivable sur un intervalle $I$\n",
    "\n",
    "La fonction $h = \\dfrac{f}{g}$ est dérivable sur $I$ et $h' = \\dfrac{f'g - f\\,g'}{g^2}$"
   ]
  },
  {
   "cell_type": "markdown",
   "metadata": {},
   "source": [
    "**Propriété : dérivée d'une composée**"
   ]
  },
  {
   "cell_type": "markdown",
   "metadata": {},
   "source": [
    "Soient $f : I \\rightarrow \\mathbb{R}$ et $g : J \\rightarrow \\mathbb{R}$ deux fonctions dérivables avec $f(I)\\subset J$.\n",
    "\n",
    "La fonction $h = g\\circ f$ est dérivable sur $I$ et $h' = f'\\times (g'\\circ f)$\n",
    "\n",
    "C'est à dire que $\\forall x\\in I,\\,(g\\circ f)'(x) = g'(\\,f(x)\\,)\\times f'(x)$"
   ]
  },
  {
   "cell_type": "markdown",
   "metadata": {},
   "source": [
    "**Exercices : ** Donner le domaine de dérivabilité ainsi que la dérivée des fonctions suivantes :  "
   ]
  },
  {
   "cell_type": "markdown",
   "metadata": {},
   "source": [
    "* $h : x \\mapsto \\sqrt{x^2 + 2x -3}$ (Vérifier que $f$ n'est pas dérivable en 1)\n",
    "* $h : x \\mapsto \\cos(\\dfrac{1}{x})$\n",
    "* $h : x \\mapsto \\sqrt{\\dfrac{x+1}{x-1}}$\n",
    "* $h : x \\mapsto \\ln(1+\\sqrt{1+e^{2x}})$\n",
    "* $h : x \\mapsto x^{x^2}$\n",
    "* $h : x \\mapsto \\ln(1 + 2\\sqrt{2\\sin(x)+1})$"
   ]
  },
  {
   "cell_type": "markdown",
   "metadata": {},
   "source": [
    "## Calcul symbolique avec Python et sympy"
   ]
  },
  {
   "cell_type": "code",
   "execution_count": 3,
   "metadata": {
    "collapsed": true,
    "scrolled": true
   },
   "outputs": [],
   "source": [
    "from sympy import *"
   ]
  },
  {
   "cell_type": "markdown",
   "metadata": {},
   "source": [
    "### Variable symbolique"
   ]
  },
  {
   "cell_type": "markdown",
   "metadata": {},
   "source": [
    "La fonction **Symbol** de SymPy permet de créer une variable symbolique:"
   ]
  },
  {
   "cell_type": "code",
   "execution_count": 4,
   "metadata": {
    "collapsed": true,
    "scrolled": true
   },
   "outputs": [],
   "source": [
    "x = Symbol(\"x\")"
   ]
  },
  {
   "cell_type": "code",
   "execution_count": 5,
   "metadata": {
    "scrolled": true
   },
   "outputs": [
    {
     "data": {
      "image/png": "[encoded data removed]",
      "text/latex": [
       "$$4 x$$"
      ],
      "text/plain": [
       "4⋅x"
      ]
     },
     "execution_count": 5,
     "metadata": {},
     "output_type": "execute_result"
    }
   ],
   "source": [
    "x+x+2*x"
   ]
  },
  {
   "cell_type": "markdown",
   "metadata": {},
   "source": [
    "### Expression formelle de la dérivée"
   ]
  },
  {
   "cell_type": "markdown",
   "metadata": {},
   "source": [
    "our dériver une fonction par rapport à une variable $x$, on utilise la fonction **diff** de sympy avec la syntaxe :\n",
    "\n",
    "$$\\text{diff(fonction, x)}$$"
   ]
  },
  {
   "cell_type": "code",
   "execution_count": 6,
   "metadata": {
    "scrolled": true
   },
   "outputs": [
    {
     "data": {
      "image/png": "[encoded data removed]",
      "text/latex": [
       "$$\\frac{e^{2 x}}{\\left(\\sqrt{e^{2 x} + 1} + 1\\right) \\sqrt{e^{2 x} + 1}}$$"
      ],
      "text/plain": [
       "                2⋅x              \n",
       "               ℯ                 \n",
       "─────────────────────────────────\n",
       "⎛   __________    ⎞    __________\n",
       "⎜  ╱  2⋅x         ⎟   ╱  2⋅x     \n",
       "⎝╲╱  ℯ    + 1  + 1⎠⋅╲╱  ℯ    + 1 "
      ]
     },
     "execution_count": 6,
     "metadata": {},
     "output_type": "execute_result"
    }
   ],
   "source": [
    "diff(log(1+sqrt(1+exp(2*x))),x)"
   ]
  },
  {
   "cell_type": "code",
   "execution_count": null,
   "metadata": {
    "collapsed": true
   },
   "outputs": [],
   "source": [
    "## Dérivée seconde, concavité, inflexions"
   ]
  },
  {
   "cell_type": "markdown",
   "metadata": {},
   "source": [
    "Même si la dérivée première donne beaucoup d'informations à propos d'une fonction, elle ne la caractérise pas complètement. pour obtenir des informations supplémentaires nous pouvons utiliser la dérivée seconde de la fonction."
   ]
  },
  {
   "cell_type": "markdown",
   "metadata": {},
   "source": [
    "**Définition **"
   ]
  },
  {
   "cell_type": "markdown",
   "metadata": {},
   "source": [
    "Soit $f : I \\rightarrow \\mathbb{R}$ une fonction numérique dérivable sur un intervalle I.\n",
    "\n",
    "Si $f$ est dérivable sur $I$, on dit que $f$ est deux fois dérivable sur $I$, et on note $f''$. On dit que $f''$ est la fonction dérivée seconde de $f$ ."
   ]
  },
  {
   "cell_type": "markdown",
   "metadata": {},
   "source": [
    "### Concavité"
   ]
  },
  {
   "cell_type": "markdown",
   "metadata": {},
   "source": [
    "**Définitions**"
   ]
  },
  {
   "cell_type": "markdown",
   "metadata": {},
   "source": [
    "* Une fonction $f$ est dite **convexe** sur un intervalle $I$, si pour toutes paires de points sur le graphe de $f(x)$, le segment de droite qui relie ces deux points passe au dessus de la courbe de $f(x)$.\n",
    "* Une fonction $f$ est dite **concave** sur un intervalle $I$, si pour toutes paires de points sur le graphe de $f(x)$, le segment de droite qui relie ces deux points passe au dessous de la courbe de $f(x)$."
   ]
  },
  {
   "cell_type": "markdown",
   "metadata": {},
   "source": [
    "**Propriété : **"
   ]
  },
  {
   "cell_type": "markdown",
   "metadata": {},
   "source": [
    "Soit $f : I \\rightarrow \\mathbb{R}$ une fonction numérique deux fois dérivables sur un intervalle I.\n",
    "\n",
    "* La fonction $f$ est convexe si $f''(x)>0$ quelque soit $x\\in I$\n",
    "* La fonction $f$ est concave si $f''(x)<0$ quelque soit $x\\in I$"
   ]
  },
  {
   "cell_type": "markdown",
   "metadata": {},
   "source": [
    "**Remarque : ** La dérivée première donne la pente de la tangente en un point de la courbe de la fonction f et la dérivée seconde donne l'allure de la courbe de la fonction f sur un intervalle $I$"
   ]
  },
  {
   "cell_type": "markdown",
   "metadata": {},
   "source": [
    "**Exercices**"
   ]
  },
  {
   "cell_type": "markdown",
   "metadata": {},
   "source": [
    "* Étudier la courbure de la courbe : $f(x) = x^2 + 2x - 4$\n",
    "* Trouver les intervalles sur lesquels la fonction $f : x \\rightarrow ln(x^2+1)$ est concave\n",
    "* À l'aide de Python trouver les intervalles de concavité et de convexité de la fonction $f : x\\rightarrow x^4 - 2x^3 - 12x^2 + 8x + 6$"
   ]
  },
  {
   "cell_type": "code",
   "execution_count": null,
   "metadata": {
    "scrolled": true
   },
   "outputs": [],
   "source": [
    "def f(x):\n",
    "    return np.log(x**2 + 1)\n",
    "def f_2(x):\n",
    "    return (2 - 2*x**2)/(x**2+1)**2\n",
    "\n",
    "x = np.linspace(-2, 2)\n",
    "y = f(x)\n",
    "y_2 = f_2(x)\n",
    "\n",
    "\n",
    "plt.plot(x, y)\n",
    "plt.plot(x, y_2)\n",
    "plt.grid()\n",
    "plt.show()"
   ]
  },
  {
   "cell_type": "markdown",
   "metadata": {},
   "source": [
    "### Inflexions"
   ]
  },
  {
   "cell_type": "markdown",
   "metadata": {},
   "source": [
    "Soit $f : I \\rightarrow \\mathbb{R}$ une fonction numérique deux fois dérivables sur un intervalle I.\n",
    "\n",
    "Si la fonction $f''$ change de signe en un point $a \\in I$, cela se traduit par un **changement de concavité** au point $A(a, f (a))$ pour la courbe de la fonction $f$ \n",
    "\n",
    "En ce point la courbe de la fonction $f$ traverse sa tangente.\n",
    "\n",
    "On exprime cette situation en disant que $A(a, f (a))$ est un point d’inflexion de la courbe de la fonction $f$."
   ]
  },
  {
   "cell_type": "markdown",
   "metadata": {},
   "source": [
    "## Dérivées partielles, notations"
   ]
  },
  {
   "cell_type": "markdown",
   "metadata": {},
   "source": [
    "La dérivation d’une fonction d’une variable peut être généralisée. Les dérivées partielles d’une fonction de deux variables x et y se calculent de la façon suivante :\n",
    "\n",
    "* par rapport à x : on considère que y est constant et on dérive la fonction comme fonction d’une variable x.\n",
    "* par rapport à y : on considère que x est constant et on dérive par rapport à y."
   ]
  },
  {
   "cell_type": "markdown",
   "metadata": {},
   "source": [
    "La dérivée partielle de $f$ par rapport à $x$ se note $\\dfrac{\\partial f}{\\partial x}$, la dérivée partielle de $f$ par rapport à $y$ se note $\\dfrac{\\partial f}{\\partial y}$"
   ]
  },
  {
   "cell_type": "markdown",
   "metadata": {},
   "source": [
    "**Exercices : ** Calculer les dérivées partielles des fonctions suivantes"
   ]
  },
  {
   "cell_type": "markdown",
   "metadata": {},
   "source": [
    "* Soit $f$ une fonction définie sur $\\mathbb{R}^2$ par $f(x, y) = x^2 + y^2$\n",
    "* Soit $g$ une fonction définie sur $\\mathbb{R}^2$ par $g(x, y) = x^3 e^y$"
   ]
  },
  {
   "cell_type": "markdown",
   "metadata": {},
   "source": [
    "On rappelle la loi de Boyle Mariotte, valable pour une mole de gaz parfait : $P V = RT $, où $P$ désigne la pression du gaz, $V$ son volume, $R$ la constante des gaz parfaits et $T$ la température du milieu."
   ]
  },
  {
   "cell_type": "markdown",
   "metadata": {},
   "source": [
    "* Calculer $\\dfrac{\\partial P}{\\partial T}$ et $\\dfrac{\\partial P}{\\partial V}$\n",
    "* Même question si l’on considère à présent la relation de Van der Waals, avec les mêmes conventions que précédemment, et avec a et b réels :\n",
    "\n",
    "$$ \\left(P+\\dfrac{a}{V^2}\\right)(V-b) = RT$$"
   ]
  },
  {
   "cell_type": "code",
   "execution_count": null,
   "metadata": {
    "scrolled": true
   },
   "outputs": [],
   "source": [
    "from mpl_toolkits.mplot3d import Axes3D\n",
    "\n",
    "ax = Axes3D(plt.figure())\n",
    "def f(x, y):\n",
    "    return x**2 + y**2\n",
    "\n",
    "X = np.linspace(-2, 2, 100)\n",
    "Y = np.linspace(-2, 2, 100)\n",
    "X, Y = np.meshgrid(X, Y)\n",
    "Z = f(X, Y)\n",
    "ax.plot_surface(X, Y, Z)\n",
    "plt.show()"
   ]
  },
  {
   "cell_type": "code",
   "execution_count": null,
   "metadata": {
    "scrolled": true
   },
   "outputs": [],
   "source": [
    "ax = Axes3D(plt.figure())\n",
    "def f(x, y):\n",
    "    return (x**3) * np.exp(x) \n",
    "\n",
    "X = np.linspace(-1, 2, 100)\n",
    "Y = np.linspace(-1, 2, 100)\n",
    "X, Y = np.meshgrid(X, Y)\n",
    "Z = f(X, Y)\n",
    "ax.plot_surface(X, Y, Z)\n",
    "plt.show()"
   ]
  },
  {
   "cell_type": "markdown",
   "metadata": {},
   "source": [
    "## Notion de primitive"
   ]
  },
  {
   "cell_type": "markdown",
   "metadata": {},
   "source": [
    "**Propriété : ** Primitive sur un intervalle"
   ]
  },
  {
   "cell_type": "markdown",
   "metadata": {},
   "source": [
    "Soit $f$ une fonction de $I$ dans $\\mathbb{R}$. On dit qu'une fonction $F: I \\rightarrow \\mathbb{R}$ est une primitive de $f$ sur $I$ si $F$ est dérivable sur $I$ et si, pour tout $x$ de $I$, on a $F'(x)=f(x)$"
   ]
  },
  {
   "cell_type": "markdown",
   "metadata": {},
   "source": [
    "**Propriété : ** Relation entre les primitives d'une même fonction"
   ]
  },
  {
   "cell_type": "markdown",
   "metadata": {},
   "source": [
    "Soit $f : I \\rightarrow\\mathbb{R} $ est une fonction numérique, et soit $F$ une primitive de $f$ sur $I$.\n",
    "\n",
    "Les primitives de $f$ sur $I$ est l'ensemble des fonctions {$x \\mapsto F(x) + \\lambda$}, avec $\\lambda\\in\\mathbb{R}$\n"
   ]
  },
  {
   "cell_type": "markdown",
   "metadata": {},
   "source": [
    "## Primitives usuelles"
   ]
  },
  {
   "cell_type": "markdown",
   "metadata": {},
   "source": [
    "\\begin{array}{c|c|c|l}\\hline\n",
    "&&&\\\\\n",
    "I & f(x) & F(x) &Remarques\\\\\n",
    "\\hline&&&\\\\\n",
    "\\mathbb{R}~\\text{si}~n\\geq 0, & x^n & \\displaystyle{\\frac{1}{n+1}~x^{n+1}} & \\text{une primitive de }  u'u^{n}  \\text{ est }  \\displaystyle{\\frac{1}{n+1}~u^{n+1}} \\\\\n",
    "\\mathbb{R}_+^*~\\text{ou}~\\mathbb{R}_-^*~\\text{sinon} & (n\\in\\mathbb{Z}\\setminus\\{-1\\}) && \\text{ on préfèrera écrire }  \\displaystyle{\\frac{u'}{u^n}}  \\text{ sous la forme }  u'u^{-n} \\\\\n",
    "&&& \\text{ pour reconnaître la dérivée d'une puissance}\\\\\n",
    "&&&\\\\\n",
    "\\hline&&&\\\\\n",
    " \\mathbb{R}_+^*  ou  \\mathbb{R}_-^* & \\displaystyle{x^{-1}=\\frac{1}{x}} & \\ln|x| & \\text{ Ne pas oublier la valeur absolue!}\\\\\n",
    "&&&\\text{Une primitive de }  \\displaystyle{\\frac{u'}{u}}  est  \\ln|u| \\\\\n",
    "&&&\\\\\n",
    "\\hline&&&\\\\\n",
    " \\mathbb{R}_+^* & x^{\\alpha}~(\\alpha\\in\\mathbb{R}\\setminus\\{-1\\}) & \\displaystyle{\\frac{1}{\\alpha+1}~x^{\\alpha+1}} &\\\\\n",
    "&&&\\\\\n",
    "\\hline&&&\\\\\n",
    " \\mathbb{R}_+^*  ou  \\mathbb{R}_-^* & \\ln|x| & x\\ln|x|-x &\\\\\n",
    "\\hline&&&\\\\\n",
    " \\mathbb{R} & \\exp(x) & \\exp(x) &\\text{ une primitive de }  u'\\exp(u)  \\text{ est }  \\exp(u) \\\\\n",
    "&&&\\text{ si }  \\varphi  \\text{ est à valeurs complexes}\\\\\n",
    "&&& \\text{ une primitive de }  \\varphi'\\exp(\\varphi)  \\text{ est }  \\exp(\\varphi) \\\\\n",
    "\\hline&&&\\\\\n",
    " \\mathbb{R} & \\cos(x) & \\sin(x) &\\\\\n",
    "\\hline&&&\\\\\n",
    " \\mathbb{R} & \\sin(x) & -\\cos(x) &\\\\\n",
    "\\hline&&&\\\\\n",
    " \\mathbb{R} & \\cosh(x) & \\sinh(x) &\\\\\n",
    "\\hline&&&\\\\\n",
    " \\mathbb{R} & \\sinh(x) & \\cosh(x) &\\\\\n",
    "\\hline&&&\\\\\n",
    " \\left]-\\frac{\\pi}{2}+k\\pi;\\frac{\\pi}{2}+k\\pi\\right[, & \\displaystyle{\\frac{1}{\\cos^2(x)}=1+\\tan^2(x)} & \\tan(x) &\\\\ k\\in\\mathbb{Z} &&&\\\\\n",
    "\\hline&&&\\\\\n",
    " \\left]-\\frac{\\pi}{2}+k\\pi;\\frac{\\pi}{2}+k\\pi\\right[, & \\tan(x) & -\\ln|\\cos(x)| & \\text{ c'est un cas particulier de la forme }  \\displaystyle{\\frac{u'}{u}} \\\\\n",
    " k\\in\\mathbb{Z} &&&\\\\\n",
    "\\hline&&&\\\\\n",
    " \\mathbb{R} & \\displaystyle{\\frac{1}{1+x^2}} & \\arctan(x) & \\text{ Justifie à elle seule l'étude des fonctions }\\\\\n",
    "&&& \\text{ trigonométriques réciproques }\\\\\n",
    "\\hline&&&\\\\\n",
    " ]-1;1[ & \\displaystyle{\\frac{1}{\\sqrt{1-x^2}}} & \\arcsin(x) & \\text{ On peut aussi choisir }  F(x)=-\\arccos(x) \\\\\n",
    "\\end{array}"
   ]
  },
  {
   "cell_type": "markdown",
   "metadata": {},
   "source": [
    "## Intégration sur un segment"
   ]
  },
  {
   "cell_type": "markdown",
   "metadata": {},
   "source": [
    "Toutes les fonctions considérées dans ce paragraphe seront supposées continues."
   ]
  },
  {
   "cell_type": "markdown",
   "metadata": {},
   "source": [
    "Si $a$ et $b$ sont deux réels donnés $(a < b)$, et $f$ , une fonction continue sur $[a, b]$, alors $f$ admet une primitive sur $[a, b]$, notée $F$ tel que : \n",
    "\n",
    "$$\\int_a^b f(x)\\,dx = F(b) - F(a)$$"
   ]
  },
  {
   "cell_type": "markdown",
   "metadata": {},
   "source": [
    "### Comprendre le sens physique de l'intégrale d'une fonction"
   ]
  },
  {
   "cell_type": "markdown",
   "metadata": {},
   "source": [
    "* En cinématique"
   ]
  },
  {
   "cell_type": "markdown",
   "metadata": {},
   "source": [
    "*Graphique tiré des notes de cours Simon Vézina en référence à Marc Séguin, Physique XXI Volume A*"
   ]
  },
  {
   "cell_type": "markdown",
   "metadata": {},
   "source": [
    "<img src=\"images/cinematique.png\">"
   ]
  },
  {
   "cell_type": "markdown",
   "metadata": {},
   "source": [
    "**Propriétés sur les intégrales**"
   ]
  },
  {
   "cell_type": "markdown",
   "metadata": {},
   "source": [
    " * $\\displaystyle\\int^a_a f(x)\\,dx = 0$\n",
    " * $\\displaystyle\\int^b_a f(x)\\,dx = - \\displaystyle\\int^a_b f(x)\\,dx$\n",
    " * $\\displaystyle\\int^b_a f(x)\\,dx = \\displaystyle\\int^c_a f(x)\\,dx  + \\displaystyle\\int^b_c f(x)\\,dx$\n",
    " * $\\displaystyle\\int^b_a \\lambda\\,f(x)\\,dx = \\lambda\\,\\displaystyle\\int^b_a f(x)\\,dx\\quad \\forall\\,\\lambda\\in\\mathbb{R}$\n",
    " * $\\displaystyle\\int^b_a (\\,f(x) + g(x)\\,)\\,dx  = \\displaystyle\\int^b_a f(x)\\,dx + \\displaystyle\\int^b_a g(x)\\,dx \\quad\\quad$ Linéarité de l'intégration"
   ]
  },
  {
   "cell_type": "markdown",
   "metadata": {},
   "source": [
    "### Intégration par parties"
   ]
  },
  {
   "cell_type": "markdown",
   "metadata": {},
   "source": [
    "**Propriété : **"
   ]
  },
  {
   "cell_type": "markdown",
   "metadata": {},
   "source": [
    "Soient $u$ et $v$, deux fonction dérivables sur un intervalle $I$, dont les dérivées sont continues sur $I$, et $a$ et $b$, deux réels de $I$. Alors :\n",
    "\n",
    "$$\\int_a^b u(x)\\,v'(x)\\,dx = \\left[u(x)v(x) \\right]_a^b - \\int_a^b u'(x)\\,v(x)\\,dx$$"
   ]
  },
  {
   "cell_type": "markdown",
   "metadata": {},
   "source": [
    "**Exercices : ** calculer les intégrales suivantes "
   ]
  },
  {
   "cell_type": "markdown",
   "metadata": {},
   "source": [
    "* $\\displaystyle\\int_0^\\frac{\\pi}{2} x\\sin(x)\\,dx$\n",
    "* $\\displaystyle\\int_1^x (t^2 + 2)\\,\\ln(t)\\,dt\\quad\\quad$ avec $x\\in\\, ]1; +\\infty]$"
   ]
  },
  {
   "cell_type": "markdown",
   "metadata": {},
   "source": [
    "### Changement de variable"
   ]
  },
  {
   "cell_type": "markdown",
   "metadata": {},
   "source": [
    "**Propriété :**"
   ]
  },
  {
   "cell_type": "markdown",
   "metadata": {},
   "source": [
    "Soit $f: I \\rightarrow \\mathbb{R}$ une fonction continue\n",
    "\n",
    "Soit $g: J \\rightarrow \\mathbb{R}$ dérivable sur $J$ et sa dérivée est continue, telle que $g(J)\\subset I$\n",
    "\n",
    "Alors pour tous $a,b$ de $J$, on a $\\displaystyle\\int_a^b f(g(t))g'(t)\\,dt = \\displaystyle\\int_c^d f(x)\\,dx \\quad$ où $\\quad c=g(a)$ et $d=g(b)$"
   ]
  },
  {
   "cell_type": "markdown",
   "metadata": {
    "collapsed": true
   },
   "source": [
    "**Exercices : ** calculer les intégrales suivantes"
   ]
  },
  {
   "cell_type": "markdown",
   "metadata": {},
   "source": [
    "* $\\displaystyle\\int_0^\\frac{\\pi}{4} tan(x)\\,dx$\n",
    "* $\\displaystyle\\int_{0}^t x\\sqrt{1+x^2}dx$\n",
    "* $\\displaystyle\\int_{0}^\\frac{1}{2} \\sqrt{1-x^2}dx$"
   ]
  },
  {
   "cell_type": "code",
   "execution_count": null,
   "metadata": {
    "collapsed": true,
    "scrolled": true
   },
   "outputs": [],
   "source": []
  }
 ],
 "metadata": {
  "kernelspec": {
   "display_name": "Python 3",
   "language": "python",
   "name": "python3"
  },
  "language_info": {
   "codemirror_mode": {
    "name": "ipython",
    "version": 3
   },
   "file_extension": ".py",
   "mimetype": "text/x-python",
   "name": "python",
   "nbconvert_exporter": "python",
   "pygments_lexer": "ipython3",
   "version": "3.6.2"
  }
 },
 "nbformat": 4,
 "nbformat_minor": 1
}
